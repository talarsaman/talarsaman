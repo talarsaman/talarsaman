{
  "nbformat": 4,
  "nbformat_minor": 0,
  "metadata": {
    "colab": {
      "provenance": [],
      "authorship_tag": "ABX9TyMy9TgsoVhxgEBc91qJSO+k",
      "include_colab_link": true
    },
    "kernelspec": {
      "name": "python3",
      "display_name": "Python 3"
    },
    "language_info": {
      "name": "python"
    }
  },
  "cells": [
    {
      "cell_type": "markdown",
      "metadata": {
        "id": "view-in-github",
        "colab_type": "text"
      },
      "source": [
        "<a href=\"https://colab.research.google.com/github/talarsaman/talarsaman/blob/main/talar_colab.ipynb\" target=\"_parent\"><img src=\"https://colab.research.google.com/assets/colab-badge.svg\" alt=\"Open In Colab\"/></a>"
      ]
    },
    {
      "cell_type": "code",
      "execution_count": null,
      "metadata": {
        "colab": {
          "base_uri": "https://localhost:8080/"
        },
        "id": "47rl-GZAXnk3",
        "outputId": "c0e92647-51e4-40c1-98fc-ba6b8de6b499"
      },
      "outputs": [
        {
          "output_type": "stream",
          "name": "stdout",
          "text": [
            "First Guess: 0\n",
            "Second Guess: 2\n",
            "Tolerable Error: 0.0000001\n",
            "\n",
            "\n",
            "*** FALSE POSITION METHOD IMPLEMENTATION ***\n",
            "Iteration-1, x2 = 1.000000 and f(x2) = -1.000000\n",
            "Iteration-2, x2 = 1.500000 and f(x2) = -0.250000\n",
            "Iteration-3, x2 = 1.600000 and f(x2) = -0.040000\n",
            "Iteration-4, x2 = 1.615385 and f(x2) = -0.005917\n",
            "Iteration-5, x2 = 1.617647 and f(x2) = -0.000865\n",
            "Iteration-6, x2 = 1.617978 and f(x2) = -0.000126\n",
            "Iteration-7, x2 = 1.618026 and f(x2) = -0.000018\n",
            "Iteration-8, x2 = 1.618033 and f(x2) = -0.000003\n",
            "Iteration-9, x2 = 1.618034 and f(x2) = -0.000000\n",
            "Iteration-10, x2 = 1.618034 and f(x2) = -0.000000\n",
            "\n",
            "Required root is: 1.61803396\n"
          ]
        }
      ],
      "source": [
        "# Defining Function\n",
        "def f(x):\n",
        "    return x**2-x-1\n",
        "\n",
        "# Implementing False Position Method\n",
        "def falsePosition(x0,x1,e):\n",
        "    step = 1\n",
        "    print('\\n\\n*** FALSE POSITION METHOD IMPLEMENTATION ***')\n",
        "    condition = True\n",
        "    while condition:\n",
        "        x2 = x0 - (x1-x0) * f(x0)/( f(x1) - f(x0) )\n",
        "        print('Iteration-%d, x2 = %0.6f and f(x2) = %0.6f' % (step, x2, f(x2)))\n",
        "\n",
        "        if f(x0) * f(x2) < 0:\n",
        "            x1 = x2\n",
        "        else:\n",
        "            x0 = x2\n",
        "\n",
        "        step = step + 1\n",
        "        condition = abs(f(x2)) > e\n",
        "\n",
        "    print('\\nRequired root is: %0.8f' % x2)\n",
        "\n",
        "\n",
        "# Input Section\n",
        "x0 = input('First Guess: ')\n",
        "x1 = input('Second Guess: ')\n",
        "e = input('Tolerable Error: ')\n",
        "\n",
        "# Converting input to float\n",
        "x0 = float(x0)\n",
        "x1 = float(x1)\n",
        "e = float(e)\n",
        "\n",
        "#Note: You can combine above two section like this\n",
        "# x0 = float(input('First Guess: '))\n",
        "# x1 = float(input('Second Guess: '))\n",
        "# e = float(input('Tolerable Error: '))\n",
        "\n",
        "\n",
        "# Checking Correctness of initial guess values and false positioning\n",
        "if f(x0) * f(x1) > 0.0:\n",
        "    print('Given guess values do not bracket the root.')\n",
        "    print('Try Again with different guess values.')\n",
        "else:\n",
        "    falsePosition(x0,x1,e)"
      ]
    },
    {
      "cell_type": "code",
      "source": [],
      "metadata": {
        "id": "XRMNu_rQXpVL"
      },
      "execution_count": null,
      "outputs": []
    }
  ]
}